{
 "cells": [
  {
   "cell_type": "code",
   "execution_count": 4,
   "metadata": {},
   "outputs": [
    {
     "name": "stdout",
     "output_type": "stream",
     "text": [
      "Enter a numer from 1 to 5 else program quits: 3\n",
      "Enter a numer from 1 to 5 else program quits: 2\n",
      "Enter a numer from 1 to 5 else program quits: 1\n",
      "Enter a numer from 1 to 5 else program quits: 4\n",
      "Enter a numer from 1 to 5 else program quits: 5\n",
      "Enter a numer from 1 to 5 else program quits: 6\n",
      "output is: ~((((a//d)**c)+b)<<e)\n"
     ]
    }
   ],
   "source": [
    "operation_data = {'1':{'oper':'+', 'value':'b', 'addfront':False},\n",
    "                  '2':{'oper':'**', 'value':'c', 'addfront':False},\n",
    "                  '3':{'oper':'//', 'value':'d', 'addfront':False},\n",
    "                  '4':{'oper':'<<', 'value':'e', 'addfront':False},\n",
    "                  '5':{'oper':'~', 'value':'', 'addfront':True}}\n",
    "i = 0\n",
    "output = ''\n",
    "\n",
    "while True:\n",
    "    num1 = input(\"Enter a numer from 1 to 5 else program quits: \")\n",
    "    i += 1\n",
    "    if num1 in operation_data:\n",
    "        if i == 1:\n",
    "            if operation_data[num1]['addfront']:\n",
    "                output = operation_data[num1]['oper']+'a'+operation_data[num1]['value']\n",
    "            else:\n",
    "                output = 'a'+operation_data[num1]['oper']+operation_data[num1]['value']\n",
    "        else:\n",
    "            if operation_data[num1]['addfront']:\n",
    "                output = operation_data[num1]['oper']+'('+output+')'+operation_data[num1]['value']\n",
    "            else:\n",
    "                output = '('+output+')'+operation_data[num1]['oper']+operation_data[num1]['value']\n",
    "    else:\n",
    "        break\n",
    "\n",
    "print('output is: ' + output)"
   ]
  },
  {
   "cell_type": "code",
   "execution_count": null,
   "metadata": {},
   "outputs": [],
   "source": []
  }
 ],
 "metadata": {
  "kernelspec": {
   "display_name": "Python 3",
   "language": "python",
   "name": "python3"
  },
  "language_info": {
   "codemirror_mode": {
    "name": "ipython",
    "version": 3
   },
   "file_extension": ".py",
   "mimetype": "text/x-python",
   "name": "python",
   "nbconvert_exporter": "python",
   "pygments_lexer": "ipython3",
   "version": "3.7.3"
  }
 },
 "nbformat": 4,
 "nbformat_minor": 2
}
