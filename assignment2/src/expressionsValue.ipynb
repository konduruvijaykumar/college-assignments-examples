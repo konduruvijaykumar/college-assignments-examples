{
 "cells": [
  {
   "cell_type": "code",
   "execution_count": 3,
   "metadata": {},
   "outputs": [
    {
     "name": "stdout",
     "output_type": "stream",
     "text": [
      "Expression 4*10+2**3==3<<1+3 value:  True\n",
      "Expression 10* ~ 5+1090>>4 value:  64\n",
      "Expression 10 + 5 + ~ 6 ** 2 value:  -22\n",
      "Expression 121 ^ 134 + (10-5) ** 2 value:  230\n",
      "Expression 521 | 125 -2 & 5 ^ 65 + 2 value:  587\n",
      "Expression not 10 +12-22 value:  True\n",
      "Expression 234 + (not 30 - 5 *6)**12 value:  235\n",
      "Expression 13 * 4 // 23 % 5 value:  2\n",
      "Expression 56 * 89 - 34 + 287 * (2<<2==8) value:  5237\n"
     ]
    }
   ],
   "source": [
    "print('Expression 4*10+2**3==3<<1+3 value: ', 4*10+2**3==3<<1+3)\n",
    "\n",
    "print('Expression 10* ~ 5+1090>>4 value: ', 10* ~ 5+1090>>4)\n",
    "\n",
    "print('Expression 10 + 5 + ~ 6 ** 2 value: ', 10 + 5 + ~ 6 ** 2)\n",
    "\n",
    "print('Expression 121 ^ 134 + (10-5) ** 2 value: ', 121 ^ 134 + (10-5) ** 2)\n",
    "\n",
    "print('Expression 521 | 125 -2 & 5 ^ 65 + 2 value: ', 521 | 125 -2 & 5 ^ 65 + 2)\n",
    "\n",
    "print('Expression not 10 +12-22 value: ', not 10 +12-22)\n",
    "\n",
    "print('Expression 234 + (not 30 - 5 *6)**12 value: ', 234 + (not 30 - 5 *6)**12)\n",
    "\n",
    "print('Expression 13 * 4 // 23 % 5 value: ', 13 * 4 // 23 % 5)\n",
    "\n",
    "print('Expression 56 * 89 - 34 + 287 * (2<<2==8) value: ', 56 * 89 - 34 + 287 * (2<<2==8))"
   ]
  },
  {
   "cell_type": "code",
   "execution_count": null,
   "metadata": {},
   "outputs": [],
   "source": []
  }
 ],
 "metadata": {
  "kernelspec": {
   "display_name": "Python 3",
   "language": "python",
   "name": "python3"
  },
  "language_info": {
   "codemirror_mode": {
    "name": "ipython",
    "version": 3
   },
   "file_extension": ".py",
   "mimetype": "text/x-python",
   "name": "python",
   "nbconvert_exporter": "python",
   "pygments_lexer": "ipython3",
   "version": "3.7.3"
  }
 },
 "nbformat": 4,
 "nbformat_minor": 2
}
