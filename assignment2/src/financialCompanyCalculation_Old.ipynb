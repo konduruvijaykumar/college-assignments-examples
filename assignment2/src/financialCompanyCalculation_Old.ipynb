{
 "cells": [
  {
   "cell_type": "code",
   "execution_count": null,
   "metadata": {},
   "outputs": [],
   "source": [
    "p = 1500\n",
    "m = 3\n",
    "r1 = 5\n",
    "r2 = 2.5\n",
    "n = 10\n",
    "k = 4\n",
    "\n",
    "def doubleCal():\n",
    "    doubleTotal = p\n",
    "    for number in range(0, n//m):\n",
    "        doubleTotal = (doubleTotal*2)\n",
    "        \n",
    "    return doubleTotal\n",
    "\n",
    "total = doubleCal() + p*((n%m)*(r1/100)) + p*(r2/100)*k\n",
    "print(total)"
   ]
  }
 ],
 "metadata": {
  "kernelspec": {
   "display_name": "Python 3",
   "language": "python",
   "name": "python3"
  },
  "language_info": {
   "codemirror_mode": {
    "name": "ipython",
    "version": 3
   },
   "file_extension": ".py",
   "mimetype": "text/x-python",
   "name": "python",
   "nbconvert_exporter": "python",
   "pygments_lexer": "ipython3",
   "version": "3.7.3"
  }
 },
 "nbformat": 4,
 "nbformat_minor": 2
}
